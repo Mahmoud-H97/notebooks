{
 "cells": [
  {
   "cell_type": "code",
   "execution_count": 12,
   "metadata": {},
   "outputs": [],
   "source": [
    "import laspy as lp\n",
    "import open3d as o3d\n",
    "import numpy as np \n",
    "import matplotlib.pyplot as plt"
   ]
  },
  {
   "cell_type": "code",
   "execution_count": 9,
   "metadata": {},
   "outputs": [],
   "source": [
    "path = r\"/home/mahmoudahmed/testbed/arch/pointclouds/AHN/samples/33CN2_16_clip.las\" \n",
    "point_cloud = lp.read(path)\n",
    "\n",
    "point_cloud =point_cloud.points[point_cloud.classification == 1]\n",
    "\n",
    "pcd = o3d.geometry.PointCloud()\n",
    "pcd.points = o3d.utility.Vector3dVector(np.vstack((point_cloud.x, point_cloud.y, point_cloud.z)).transpose())\n",
    "pcd.colors = o3d.utility.Vector3dVector(np.vstack((point_cloud.red, point_cloud.green, point_cloud.blue)).transpose()/255)\n",
    "\n",
    "v_size = 2.5\n",
    "\n",
    "voxel_grid = o3d.geometry.VoxelGrid.create_from_point_cloud(pcd, voxel_size= v_size)\n",
    "\n",
    "o3d.visualization.draw_geometries([voxel_grid])"
   ]
  },
  {
   "cell_type": "code",
   "execution_count": null,
   "metadata": {},
   "outputs": [],
   "source": [
    "\n",
    "path = r\"/home/mahmoudahmed/codebase/den-prof/test/tree.LAZ\"\n",
    "\n",
    "point_cloud = lp.read(path)\n",
    "\n",
    "point_cloud =point_cloud.points[point_cloud.classification == 1]\n",
    "\n",
    "pcd = o3d.geometry.PointCloud()\n",
    "pcd.points = o3d.utility.Vector3dVector(np.vstack((point_cloud.x, point_cloud.y, point_cloud.z)).transpose())\n",
    "#pcd.colors = o3d.utility.Vector3dVector(np.vstack((point_cloud.red, point_cloud.green, point_cloud.blue)).transpose()/255)\n",
    "#pcd.colors = o3d.utility.Vector3dVector(np.vstack((point_cloud.red, point_cloud.green, point_cloud.blue)).transpose())\n",
    "\n",
    "# Normalize intensity values to range [0,1]\n",
    "intensity = point_cloud.intensity\n",
    "intensity_normalized = (intensity - np.min(intensity)) / (np.max(intensity) - np.min(intensity))\n",
    "\n",
    "# Convert intensity to grayscale colors\n",
    "#colors = np.vstack((intensity_normalized, intensity_normalized, intensity_normalized)).T\n",
    "#pcd.colors = o3d.utility.Vector3dVector(colors)\n",
    "\n",
    "# Apply a colormap (e.g., 'turbo', 'viridis', or 'jet')\n",
    "colormap = plt.get_cmap(\"turbo\")  # Change to 'jet', 'viridis', etc.\n",
    "colors_mapped = colormap(intensity_normalized)[:, :3]  # Extract RGB channels\n",
    "\n",
    "# Assign colors to the point cloud\n",
    "pcd.colors = o3d.utility.Vector3dVector(colors_mapped)\n",
    "\n",
    "v_size = 1.0\n",
    "\n",
    "voxel_grid = o3d.geometry.VoxelGrid.create_from_point_cloud(pcd, voxel_size= v_size)\n",
    "\n",
    "o3d.visualization.draw_geometries([voxel_grid])"
   ]
  },
  {
   "cell_type": "code",
   "execution_count": 28,
   "metadata": {},
   "outputs": [
    {
     "name": "stdout",
     "output_type": "stream",
     "text": [
      "[36864 30976 36864 ... 39680 34304 34048]\n"
     ]
    }
   ],
   "source": [
    "\n",
    "path = r\"/home/mahmoudahmed/codebase/den-prof/test/forest.las\"\n",
    "\n",
    "point_cloud = lp.read(path)\n",
    "\n",
    "point_cloud =point_cloud.points[point_cloud.classification == 1]\n",
    "\n",
    "print(point_cloud.red)\n",
    "\n",
    "pcd = o3d.geometry.PointCloud()\n",
    "pcd.points = o3d.utility.Vector3dVector(np.vstack((point_cloud.x, point_cloud.y, point_cloud.z)).transpose())\n",
    "pcd.colors = o3d.utility.Vector3dVector(np.vstack((point_cloud.red, point_cloud.green, point_cloud.blue)).transpose()/65535)\n",
    "\n",
    "v_size = 2.0\n",
    "\n",
    "voxel_grid = o3d.geometry.VoxelGrid.create_from_point_cloud(pcd, voxel_size= v_size)\n",
    "\n",
    "o3d.visualization.draw_geometries([voxel_grid])"
   ]
  },
  {
   "cell_type": "code",
   "execution_count": null,
   "metadata": {},
   "outputs": [],
   "source": []
  }
 ],
 "metadata": {
  "kernelspec": {
   "display_name": "3d",
   "language": "python",
   "name": "python3"
  },
  "language_info": {
   "codemirror_mode": {
    "name": "ipython",
    "version": 3
   },
   "file_extension": ".py",
   "mimetype": "text/x-python",
   "name": "python",
   "nbconvert_exporter": "python",
   "pygments_lexer": "ipython3",
   "version": "3.8.20"
  }
 },
 "nbformat": 4,
 "nbformat_minor": 2
}
